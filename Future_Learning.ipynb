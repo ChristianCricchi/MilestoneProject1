{
  "nbformat": 4,
  "nbformat_minor": 0,
  "metadata": {
    "colab": {
      "provenance": [],
      "authorship_tag": "ABX9TyPXyMO647FxN6fLPEwf4one",
      "include_colab_link": true
    },
    "kernelspec": {
      "name": "python3",
      "display_name": "Python 3"
    },
    "language_info": {
      "name": "python"
    }
  },
  "cells": [
    {
      "cell_type": "markdown",
      "metadata": {
        "id": "view-in-github",
        "colab_type": "text"
      },
      "source": [
        "<a href=\"https://colab.research.google.com/github/ChristianCricchi/MilestoneProject1/blob/main/Future_Learning.ipynb\" target=\"_parent\"><img src=\"https://colab.research.google.com/assets/colab-badge.svg\" alt=\"Open In Colab\"/></a>"
      ]
    },
    {
      "cell_type": "markdown",
      "source": [
        "# Functions\n",
        "\n",
        "A piece of reusable code\n",
        "\n",
        "Input(s) ---> Does something ---> Output(s)\n",
        "\n",
        "Example:"
      ],
      "metadata": {
        "id": "bmEk7-meqKrm"
      }
    },
    {
      "cell_type": "code",
      "source": [
        "def double_number(n):\n",
        "  return n * 2"
      ],
      "metadata": {
        "id": "GXnwTlE2qE3w"
      },
      "execution_count": 9,
      "outputs": []
    },
    {
      "cell_type": "markdown",
      "source": [
        "The input is just n and it return n * 2\n",
        "When we define function we do not need any of the input(s) we are using an alias or a nickname for that input. In this case the input is n it is when we call this function we actually specifie what we want that this input should to be.\n",
        "If we ran this function does not happen nothin we need to call this function."
      ],
      "metadata": {
        "id": "mwn62U4tq1CA"
      }
    },
    {
      "cell_type": "code",
      "source": [
        "double_number(500)"
      ],
      "metadata": {
        "colab": {
          "base_uri": "https://localhost:8080/",
          "height": 0
        },
        "id": "cG_VFiFisT8u",
        "outputId": "68ea4091-1a83-42fb-c019-b04f293a967c"
      },
      "execution_count": 10,
      "outputs": [
        {
          "output_type": "execute_result",
          "data": {
            "text/plain": [
              "1000"
            ]
          },
          "metadata": {},
          "execution_count": 10
        }
      ]
    },
    {
      "cell_type": "markdown",
      "source": [
        "# Test Driven Development\n",
        "\n",
        "It is a way that we can sure that our functions do what we expect them to do so we start not by thinking about the code that will get us but we start by thinking about what is our input going to be and what output do we expect so for example:\n",
        "\n",
        "Function to add VAT to numbers\n",
        "\n",
        "Raw Price ---> VAT --> Price with VAT added\n",
        "\n",
        "* Input ---> 1 - 2 - 10 - 100\n",
        "  * Expected ---> Output 1.2 - 2.4 - 12 -120\n",
        "    * Actual ---> Output 1.2 - 2.4 - 12 -120\n",
        "      * Pass|Fail ---> Pass - Pass - Pass - Pass\n"
      ],
      "metadata": {
        "id": "iiKnNsj6ssNx"
      }
    },
    {
      "cell_type": "code",
      "source": [
        "# We define the test cases as a dictionary\n",
        "test_cases = {1:1.2, 2:2.4, 10:13, 100:120} # 1 ---> input,  1.2 ---> Expected"
      ],
      "metadata": {
        "id": "ZMhkM-AcuwqJ"
      },
      "execution_count": 14,
      "outputs": []
    },
    {
      "cell_type": "code",
      "source": [
        "# Run the function that will meet these test cases\n",
        "def add_vat(n):\n",
        "  return n * 1.2 # now just return n * 1.2\n",
        "\n",
        "\n"
      ],
      "metadata": {
        "id": "RdD3wonXvSh9"
      },
      "execution_count": 15,
      "outputs": []
    },
    {
      "cell_type": "code",
      "source": [
        "# I will use a for loop so I can see if meet my test cases\n",
        "for input, expected in test_cases.items():\n",
        "  actual = add_vat(input)\n",
        "  if actual == expected:\n",
        "    print(f\"The test case for input {input} has passed!\")\n",
        "  else:\n",
        "    print(f\"The test case for input {input} has failed!\")"
      ],
      "metadata": {
        "colab": {
          "base_uri": "https://localhost:8080/",
          "height": 0
        },
        "id": "UrNBp3QivyRD",
        "outputId": "752a5e5a-3e42-4973-b311-77dc542d54cd"
      },
      "execution_count": 16,
      "outputs": [
        {
          "output_type": "stream",
          "name": "stdout",
          "text": [
            "The test case for input 1 has passed!\n",
            "The test case for input 2 has passed!\n",
            "The test case for input 10 has failed!\n",
            "The test case for input 100 has passed!\n"
          ]
        }
      ]
    },
    {
      "cell_type": "markdown",
      "source": [
        "# Just return Hello World!"
      ],
      "metadata": {
        "id": "SbqbiKwXWlgG"
      }
    },
    {
      "cell_type": "code",
      "execution_count": 1,
      "metadata": {
        "id": "g9zLK68CWeM3"
      },
      "outputs": [],
      "source": [
        "def hello_world():\n",
        "  return # write your code here"
      ]
    },
    {
      "cell_type": "code",
      "source": [
        "def hello_world():\n",
        "  return \"Hello World!\""
      ],
      "metadata": {
        "id": "mdsrBVLnW2nE"
      },
      "execution_count": 2,
      "outputs": []
    },
    {
      "cell_type": "markdown",
      "source": [
        "# What is a notebook?\n",
        "\n",
        "\n",
        "---\n",
        "\n",
        "\n",
        "\n",
        "*   IDE - Integrated development environment\n",
        "*   Makes writting code easy\n",
        "*   Cells can be run individually with the output underneath each cell\n",
        "*   Extremely suitable for date work\n",
        "\n",
        "\n",
        "# Google Colab\n",
        "## What is Google Colab?\n",
        "\n",
        "\n",
        "---\n",
        "\n",
        "\n",
        "\n",
        "*   An online IDE for all your notebook needs!\n",
        "*   Your own device does not matter!\n",
        "\n",
        "\n",
        "\n",
        "\n",
        "\n",
        "\n",
        "\n",
        "\n",
        "\n"
      ],
      "metadata": {
        "id": "uiVGtG7JX0lU"
      }
    },
    {
      "cell_type": "code",
      "source": [
        "print('Hello World')"
      ],
      "metadata": {
        "colab": {
          "base_uri": "https://localhost:8080/",
          "height": 0
        },
        "id": "rdMwoAlmZ0db",
        "outputId": "a821744a-ee52-4cf4-9de5-71aa20e4c075"
      },
      "execution_count": 3,
      "outputs": [
        {
          "output_type": "stream",
          "name": "stdout",
          "text": [
            "Hello World\n"
          ]
        }
      ]
    },
    {
      "cell_type": "markdown",
      "source": [
        "# Declaring a variable\n",
        "\n",
        "\n",
        "---\n",
        "\n",
        "* What you need to create a variable:\n",
        "\n",
        "    *  Name\n",
        "    *  Equals sign (=)\n",
        "    *  Value\n",
        "\n",
        "* Example of variable being made:\n",
        "    * my_variable = \"Hello World!\"\n",
        "\n",
        "\n",
        "\n",
        "\n",
        "\n",
        "\n",
        "\n",
        "\n",
        "\n",
        "\n",
        "\n"
      ],
      "metadata": {
        "id": "Mo-QirfTdsPy"
      }
    },
    {
      "cell_type": "markdown",
      "source": [
        "# Data Types\n",
        "## Overview\n",
        "\n",
        "---\n",
        "\n",
        "* Data types decide what we can do with the data!\n",
        "* Python is dynamically typed\n",
        "  * It detemines the data typed based on what data or Oblect we give it.\n",
        "* Syntax matters - different syntax can lead to different  data types.\n",
        "\n",
        "## String\n",
        "\n",
        "---\n",
        "\n",
        "* It can ba a combination of:\n",
        "  * Letters\n",
        "  * Numbers\n",
        "  * ASCII Characters\n",
        "* Use single or double quotes to create a string.\n",
        "\n",
        "* Some Examples:\n",
        "  * my_variable = \"Hello World\"\n",
        "  * my_variable = \"27\"\n",
        "  * my_variable = 'I love data!'\n",
        "\n",
        "## Floats\n",
        "\n",
        "\n",
        "---\n",
        "\n",
        "Floating point numbers, they are similar to integers except they refer to numbers that have at least one decimal, they can be again negative or positive.\n",
        "\n",
        "* Some examples:\n",
        "  * my_variable = 1.8\n",
        "  * my_variable = -28.9\n",
        "  * my_variable = 1593574.588\n",
        "\n",
        "## Integers\n",
        "\n",
        "---\n",
        "\n",
        "* Integers are whole numbers without decimals.\n",
        "* Can be any lenght.\n",
        "* Positive or negative\n",
        "\n",
        "* Some examples:\n",
        "  * my_variable = 1\n",
        "  * my_variable = -345\n",
        "  * my_variable = 1593574588\n",
        "\n",
        "## Boolean\n",
        "\n",
        "\n",
        "---\n",
        "\n",
        "* Booleans represent two values: True or False\n",
        "* Useful at evaluating expressions\n",
        " Let's imagine we want to check if two numbers are equal. By testing it in Python we would have get:\n",
        "  * True if are equal\n",
        "  * False if they are not\n",
        "\n",
        "  None Type\n",
        "\n",
        "---\n",
        "\n",
        "* None is nothing!\n",
        "* Useful when we don't have data about something.\n",
        "* It is not the same as:\n",
        "  * False\n",
        "  * An Empty string\n",
        "  * 0\n",
        "\n",
        "\n",
        "\n",
        "\n",
        "\n",
        "\n",
        "\n",
        "\n",
        "\n",
        "\n",
        "\n"
      ],
      "metadata": {
        "id": "QTiCum-IiZHw"
      }
    }
  ]
}